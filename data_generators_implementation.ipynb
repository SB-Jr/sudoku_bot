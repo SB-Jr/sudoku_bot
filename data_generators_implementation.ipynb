{
 "cells": [
  {
   "cell_type": "code",
   "execution_count": 1,
   "metadata": {
    "execution": {
     "iopub.execute_input": "2020-06-09T09:07:25.070230Z",
     "iopub.status.busy": "2020-06-09T09:07:25.070012Z",
     "iopub.status.idle": "2020-06-09T09:07:25.073705Z",
     "shell.execute_reply": "2020-06-09T09:07:25.072984Z",
     "shell.execute_reply.started": "2020-06-09T09:07:25.070199Z"
    }
   },
   "outputs": [],
   "source": [
    "import os\n",
    "\n",
    "os.environ[\"MODIN_ENGINE\"] = \"ray\" "
   ]
  },
  {
   "cell_type": "code",
   "execution_count": 56,
   "metadata": {
    "execution": {
     "iopub.execute_input": "2020-06-09T12:59:43.332535Z",
     "iopub.status.busy": "2020-06-09T12:59:43.332291Z",
     "iopub.status.idle": "2020-06-09T12:59:43.340794Z",
     "shell.execute_reply": "2020-06-09T12:59:43.338544Z",
     "shell.execute_reply.started": "2020-06-09T12:59:43.332510Z"
    }
   },
   "outputs": [],
   "source": [
    "import pandas as pd\n",
    "import numpy as np\n",
    "import matplotlib.pyplot as plt\n",
    "from tensorflow.keras.optimizers import RMSprop\n",
    "from tensorflow.keras.utils import Sequence\n",
    "from tensorflow.keras.utils import plot_model\n",
    "from tensorflow.keras import Sequential\n",
    "from tensorflow.keras.layers import Dense\n",
    "from sklearn.model_selection import train_test_split\n",
    "from IPython.display import display"
   ]
  },
  {
   "cell_type": "code",
   "execution_count": 2,
   "metadata": {
    "execution": {
     "iopub.execute_input": "2020-06-09T12:45:52.215775Z",
     "iopub.status.busy": "2020-06-09T12:45:52.215521Z",
     "iopub.status.idle": "2020-06-09T12:45:54.946876Z",
     "shell.execute_reply": "2020-06-09T12:45:54.945917Z",
     "shell.execute_reply.started": "2020-06-09T12:45:52.215750Z"
    }
   },
   "outputs": [
    {
     "name": "stdout",
     "output_type": "stream",
     "text": [
      "(1000000, 2)\n"
     ]
    },
    {
     "data": {
      "text/html": [
       "<div>\n",
       "<style scoped>\n",
       "    .dataframe tbody tr th:only-of-type {\n",
       "        vertical-align: middle;\n",
       "    }\n",
       "\n",
       "    .dataframe tbody tr th {\n",
       "        vertical-align: top;\n",
       "    }\n",
       "\n",
       "    .dataframe thead th {\n",
       "        text-align: right;\n",
       "    }\n",
       "</style>\n",
       "<table border=\"1\" class=\"dataframe\">\n",
       "  <thead>\n",
       "    <tr style=\"text-align: right;\">\n",
       "      <th></th>\n",
       "      <th>quizzes</th>\n",
       "      <th>solutions</th>\n",
       "    </tr>\n",
       "  </thead>\n",
       "  <tbody>\n",
       "    <tr>\n",
       "      <th>0</th>\n",
       "      <td>0043002090050090010700600430060020871900074000...</td>\n",
       "      <td>8643712593258497619712658434361925871986574322...</td>\n",
       "    </tr>\n",
       "    <tr>\n",
       "      <th>1</th>\n",
       "      <td>0401000501070039605200080000000000170009068008...</td>\n",
       "      <td>3461792581875239645296483719658324174729168358...</td>\n",
       "    </tr>\n",
       "    <tr>\n",
       "      <th>2</th>\n",
       "      <td>6001203840084590720000060050002640300700800069...</td>\n",
       "      <td>6951273841384596727248369158512647392739815469...</td>\n",
       "    </tr>\n",
       "    <tr>\n",
       "      <th>3</th>\n",
       "      <td>4972000001004000050000160986203000403009000000...</td>\n",
       "      <td>4972583161864397252537164986293815473759641828...</td>\n",
       "    </tr>\n",
       "    <tr>\n",
       "      <th>4</th>\n",
       "      <td>0059103080094030600275001000300002010008200070...</td>\n",
       "      <td>4659123781894735623275681497386452919548216372...</td>\n",
       "    </tr>\n",
       "  </tbody>\n",
       "</table>\n",
       "</div>"
      ],
      "text/plain": [
       "                                             quizzes  \\\n",
       "0  0043002090050090010700600430060020871900074000...   \n",
       "1  0401000501070039605200080000000000170009068008...   \n",
       "2  6001203840084590720000060050002640300700800069...   \n",
       "3  4972000001004000050000160986203000403009000000...   \n",
       "4  0059103080094030600275001000300002010008200070...   \n",
       "\n",
       "                                           solutions  \n",
       "0  8643712593258497619712658434361925871986574322...  \n",
       "1  3461792581875239645296483719658324174729168358...  \n",
       "2  6951273841384596727248369158512647392739815469...  \n",
       "3  4972583161864397252537164986293815473759641828...  \n",
       "4  4659123781894735623275681497386452919548216372...  "
      ]
     },
     "metadata": {},
     "output_type": "display_data"
    }
   ],
   "source": [
    "data_path='dataset/sudoku.csv'\n",
    "full_df=pd.read_csv(data_path)\n",
    "print(full_df.shape)\n",
    "display(full_df.head())"
   ]
  },
  {
   "cell_type": "code",
   "execution_count": 3,
   "metadata": {
    "execution": {
     "iopub.execute_input": "2020-06-09T12:45:57.496074Z",
     "iopub.status.busy": "2020-06-09T12:45:57.495830Z",
     "iopub.status.idle": "2020-06-09T12:45:57.499569Z",
     "shell.execute_reply": "2020-06-09T12:45:57.498960Z",
     "shell.execute_reply.started": "2020-06-09T12:45:57.496047Z"
    }
   },
   "outputs": [],
   "source": [
    "df = full_df[:2000]"
   ]
  },
  {
   "cell_type": "code",
   "execution_count": 121,
   "metadata": {
    "execution": {
     "iopub.execute_input": "2020-06-09T13:18:42.063752Z",
     "iopub.status.busy": "2020-06-09T13:18:42.063334Z",
     "iopub.status.idle": "2020-06-09T13:18:42.094914Z",
     "shell.execute_reply": "2020-06-09T13:18:42.094004Z",
     "shell.execute_reply.started": "2020-06-09T13:18:42.063708Z"
    }
   },
   "outputs": [],
   "source": [
    "class MyDataGenerator(Sequence):\n",
    "    def __init__(self, X, y, batch_size=32, dim=(81,), n_channels=1, n_classes=9, shuffle=False):\n",
    "        self.dim=dim\n",
    "        self.batch_size=batch_size\n",
    "        self.n_channels=n_channels\n",
    "        self.n_classes=n_classes\n",
    "        self.shuffle=shuffle\n",
    "        self.X=self.__convert_to_array(X)\n",
    "        self.y=self.__convert_to_array(y)\n",
    "        self.on_epoch_end()\n",
    "        \n",
    "    def __convert_to_array(self, series):\n",
    "        \"\"\"Convert the input string of 81 integers into a integer array\n",
    "        paramd: series: a pandas.Series of shape(-, 1) containing a string of 81 numbers,\n",
    "        ret: numpy.ndarray of shape (-1, 81) type=int\"\"\"\n",
    "        ret_ser = []\n",
    "        no_of_ex = series.shape[0]\n",
    "        for i in range(no_of_ex):\n",
    "            str_ = str(series.loc[i])\n",
    "            ret_ser.append([float(s) for s in str_])\n",
    "        \n",
    "        if len(ret_ser) == 1:  #handling data if only 1 row present\n",
    "            ret_ser = np.array([ret_ser])\n",
    "        else:\n",
    "            ret_ser = np.array(ret_ser)\n",
    "        display(ret_ser)\n",
    "        print(ret_ser.shape)\n",
    "        return ret_ser\n",
    "        \n",
    "    def __data_generator(self, X, y):\n",
    "        \"\"\"Takes input X and y and generates incomplete sudoku quizes with 1 input put in place at a time\n",
    "        So if 1 quiz has 5 empty places then it will generate a list of 5 quizes with 1 input put in right place at each itteration\n",
    "        param: X: numpy.ndarray of shape (-1, 81)\n",
    "               y: numpy.ndarray of shape (-1, 81)\n",
    "        ret:   ret_X: numpy.ndarray of shape(-1, 81)\n",
    "               ret_y: numpy.ndarray of shape(-1, 9)\"\"\"\n",
    "        ret_X=[]\n",
    "        ret_y=[]\n",
    "        for i in range(X.shape[0]):\n",
    "            for j in range(81):\n",
    "                if X[i][j] == 0:\n",
    "                    ret_X.append(X[i].copy())\n",
    "                    temp_y = np.zeros((9))\n",
    "                    temp_y[int(y[i][j])-1]=1\n",
    "                    ret_y.append(temp_y)\n",
    "                    X[i][j]=y[i][j]\n",
    "        ret_X = np.array(ret_X)\n",
    "        ret_y = np.array(ret_y, dtype=int)\n",
    "        return ret_X, ret_y\n",
    "    \n",
    "    def __len__(self):\n",
    "        \"\"\"Returns the no of examples in each batch\n",
    "        ret: int\"\"\"\n",
    "        return int(np.ceil(len(self.X)/self.batch_size))\n",
    "    \n",
    "    def __getitem__(self, index):\n",
    "        \"\"\"Generates a batch for the given index\n",
    "        param: index: the batch no of the batch to be provided for the current epoch\n",
    "        ret:   ret_X: generated set of incomplete quizes of shape (-1, 81)\n",
    "               ret_y: the logit has to be inserted for each incomplete quiz of shape (-1, 9)\"\"\"\n",
    "        Xs=np.array(self.X[index*self.batch_size: (index+1)*self.batch_size])\n",
    "        ys=np.array(self.y[index*self.batch_size: (index+1)*self.batch_size])\n",
    "        return self.__data_generator(Xs,ys)"
   ]
  },
  {
   "cell_type": "code",
   "execution_count": 122,
   "metadata": {
    "execution": {
     "iopub.execute_input": "2020-06-09T13:18:43.290994Z",
     "iopub.status.busy": "2020-06-09T13:18:43.290741Z",
     "iopub.status.idle": "2020-06-09T13:18:43.294043Z",
     "shell.execute_reply": "2020-06-09T13:18:43.293379Z",
     "shell.execute_reply.started": "2020-06-09T13:18:43.290968Z"
    }
   },
   "outputs": [],
   "source": [
    "batch_size=128"
   ]
  },
  {
   "cell_type": "code",
   "execution_count": 123,
   "metadata": {
    "execution": {
     "iopub.execute_input": "2020-06-09T13:18:43.670331Z",
     "iopub.status.busy": "2020-06-09T13:18:43.670090Z",
     "iopub.status.idle": "2020-06-09T13:18:43.675065Z",
     "shell.execute_reply": "2020-06-09T13:18:43.674139Z",
     "shell.execute_reply.started": "2020-06-09T13:18:43.670295Z"
    }
   },
   "outputs": [
    {
     "name": "stdout",
     "output_type": "stream",
     "text": [
      "(2000,)\n",
      "(2000,)\n"
     ]
    }
   ],
   "source": [
    "X=df['quizzes']\n",
    "y=df['solutions']\n",
    "print(X.shape)\n",
    "print(y.shape)"
   ]
  },
  {
   "cell_type": "code",
   "execution_count": 124,
   "metadata": {
    "execution": {
     "iopub.execute_input": "2020-06-09T13:18:44.079563Z",
     "iopub.status.busy": "2020-06-09T13:18:44.079323Z",
     "iopub.status.idle": "2020-06-09T13:18:44.086013Z",
     "shell.execute_reply": "2020-06-09T13:18:44.085422Z",
     "shell.execute_reply.started": "2020-06-09T13:18:44.079536Z"
    }
   },
   "outputs": [
    {
     "name": "stdout",
     "output_type": "stream",
     "text": [
      "(1900,)\n",
      "(1900,)\n",
      "(100,)\n",
      "(100,)\n"
     ]
    }
   ],
   "source": [
    "X_train, X_eval, y_train, y_eval = train_test_split(X, y, test_size=0.05, shuffle=False)\n",
    "print(X_train.shape)\n",
    "print(y_train.shape)\n",
    "print(X_eval.shape)\n",
    "print(y_eval.shape)"
   ]
  },
  {
   "cell_type": "code",
   "execution_count": 125,
   "metadata": {
    "execution": {
     "iopub.execute_input": "2020-06-09T13:18:44.510966Z",
     "iopub.status.busy": "2020-06-09T13:18:44.510749Z",
     "iopub.status.idle": "2020-06-09T13:18:44.517937Z",
     "shell.execute_reply": "2020-06-09T13:18:44.517181Z",
     "shell.execute_reply.started": "2020-06-09T13:18:44.510941Z"
    }
   },
   "outputs": [
    {
     "data": {
      "text/plain": [
       "(3,)"
      ]
     },
     "execution_count": 125,
     "metadata": {},
     "output_type": "execute_result"
    }
   ],
   "source": [
    "X[0:3].shape"
   ]
  },
  {
   "cell_type": "code",
   "execution_count": 126,
   "metadata": {
    "execution": {
     "iopub.execute_input": "2020-06-09T13:18:45.394810Z",
     "iopub.status.busy": "2020-06-09T13:18:45.394578Z",
     "iopub.status.idle": "2020-06-09T13:18:45.613296Z",
     "shell.execute_reply": "2020-06-09T13:18:45.612466Z",
     "shell.execute_reply.started": "2020-06-09T13:18:45.394784Z"
    }
   },
   "outputs": [
    {
     "data": {
      "text/plain": [
       "array([[0., 0., 4., ..., 3., 0., 0.],\n",
       "       [0., 4., 0., ..., 1., 0., 0.],\n",
       "       [6., 0., 0., ..., 1., 9., 0.],\n",
       "       ...,\n",
       "       [0., 6., 0., ..., 0., 0., 9.],\n",
       "       [7., 0., 0., ..., 0., 0., 0.],\n",
       "       [0., 0., 4., ..., 0., 8., 0.]])"
      ]
     },
     "metadata": {},
     "output_type": "display_data"
    },
    {
     "name": "stdout",
     "output_type": "stream",
     "text": [
      "(1900, 81)\n"
     ]
    },
    {
     "data": {
      "text/plain": [
       "array([[8., 6., 4., ..., 3., 7., 8.],\n",
       "       [3., 4., 6., ..., 1., 8., 6.],\n",
       "       [6., 9., 5., ..., 1., 9., 7.],\n",
       "       ...,\n",
       "       [2., 6., 8., ..., 8., 7., 9.],\n",
       "       [7., 1., 9., ..., 6., 1., 4.],\n",
       "       [7., 8., 4., ..., 4., 8., 7.]])"
      ]
     },
     "metadata": {},
     "output_type": "display_data"
    },
    {
     "name": "stdout",
     "output_type": "stream",
     "text": [
      "(1900, 81)\n"
     ]
    }
   ],
   "source": [
    "my_data_generator=MyDataGenerator(X_train, y_train, batch_size=batch_size)"
   ]
  },
  {
   "cell_type": "code",
   "execution_count": 127,
   "metadata": {
    "execution": {
     "iopub.execute_input": "2020-06-09T13:19:01.393939Z",
     "iopub.status.busy": "2020-06-09T13:19:01.393641Z",
     "iopub.status.idle": "2020-06-09T13:19:01.451453Z",
     "shell.execute_reply": "2020-06-09T13:19:01.450645Z",
     "shell.execute_reply.started": "2020-06-09T13:19:01.393889Z"
    }
   },
   "outputs": [],
   "source": [
    "model = Sequential()\n",
    "model.add(Dense(81, name='Hidden_layer_1', activation='relu', kernel_initializer='normal', input_dim=81))\n",
    "model.add(Dense(81, name='Hidden_layer_2', activation='relu', kernel_initializer='normal'))\n",
    "model.add(Dense(27, name='Hidden_layer_3', activation='relu', kernel_initializer='normal'))\n",
    "model.add(Dense(9, name='output_layer', activation='sigmoid'))"
   ]
  },
  {
   "cell_type": "code",
   "execution_count": 128,
   "metadata": {
    "execution": {
     "iopub.execute_input": "2020-06-09T13:19:02.055220Z",
     "iopub.status.busy": "2020-06-09T13:19:02.054987Z",
     "iopub.status.idle": "2020-06-09T13:19:02.062796Z",
     "shell.execute_reply": "2020-06-09T13:19:02.061865Z",
     "shell.execute_reply.started": "2020-06-09T13:19:02.055194Z"
    }
   },
   "outputs": [
    {
     "name": "stdout",
     "output_type": "stream",
     "text": [
      "Model: \"sequential_13\"\n",
      "_________________________________________________________________\n",
      "Layer (type)                 Output Shape              Param #   \n",
      "=================================================================\n",
      "Hidden_layer_1 (Dense)       (None, 81)                6642      \n",
      "_________________________________________________________________\n",
      "Hidden_layer_2 (Dense)       (None, 81)                6642      \n",
      "_________________________________________________________________\n",
      "Hidden_layer_3 (Dense)       (None, 27)                2214      \n",
      "_________________________________________________________________\n",
      "output_layer (Dense)         (None, 9)                 252       \n",
      "=================================================================\n",
      "Total params: 15,750\n",
      "Trainable params: 15,750\n",
      "Non-trainable params: 0\n",
      "_________________________________________________________________\n"
     ]
    }
   ],
   "source": [
    "model.summary()"
   ]
  },
  {
   "cell_type": "code",
   "execution_count": 129,
   "metadata": {
    "execution": {
     "iopub.execute_input": "2020-06-09T13:19:02.527021Z",
     "iopub.status.busy": "2020-06-09T13:19:02.526781Z",
     "iopub.status.idle": "2020-06-09T13:19:02.648467Z",
     "shell.execute_reply": "2020-06-09T13:19:02.647698Z",
     "shell.execute_reply.started": "2020-06-09T13:19:02.526995Z"
    }
   },
   "outputs": [
    {
     "data": {
      "image/png": "[encoded data removed]",
      "text/plain": [
       "<IPython.core.display.Image object>"
      ]
     },
     "execution_count": 129,
     "metadata": {},
     "output_type": "execute_result"
    }
   ],
   "source": [
    "plot_model(model, 'model_with_data_generator.png', show_shapes=True)"
   ]
  },
  {
   "cell_type": "code",
   "execution_count": 130,
   "metadata": {
    "execution": {
     "iopub.execute_input": "2020-06-09T13:19:03.103787Z",
     "iopub.status.busy": "2020-06-09T13:19:03.103517Z",
     "iopub.status.idle": "2020-06-09T13:19:03.107360Z",
     "shell.execute_reply": "2020-06-09T13:19:03.106700Z",
     "shell.execute_reply.started": "2020-06-09T13:19:03.103755Z"
    }
   },
   "outputs": [],
   "source": [
    "optimizer = RMSprop(learning_rate=0.5, momentum=0.5)"
   ]
  },
  {
   "cell_type": "code",
   "execution_count": 131,
   "metadata": {
    "execution": {
     "iopub.execute_input": "2020-06-09T13:19:10.142116Z",
     "iopub.status.busy": "2020-06-09T13:19:10.141880Z",
     "iopub.status.idle": "2020-06-09T13:19:10.155694Z",
     "shell.execute_reply": "2020-06-09T13:19:10.154688Z",
     "shell.execute_reply.started": "2020-06-09T13:19:10.142090Z"
    }
   },
   "outputs": [],
   "source": [
    "model.compile(optimizer='RMSprop', loss='categorical_crossentropy', metrics=['accuracy'])"
   ]
  },
  {
   "cell_type": "code",
   "execution_count": 132,
   "metadata": {
    "execution": {
     "iopub.execute_input": "2020-06-09T13:19:10.769919Z",
     "iopub.status.busy": "2020-06-09T13:19:10.769670Z",
     "iopub.status.idle": "2020-06-09T13:20:44.744209Z",
     "shell.execute_reply": "2020-06-09T13:20:44.743267Z",
     "shell.execute_reply.started": "2020-06-09T13:19:10.769894Z"
    },
    "scrolled": true
   },
   "outputs": [
    {
     "name": "stdout",
     "output_type": "stream",
     "text": [
      "Epoch 1/50\n",
      "15/15 [==============================] - 2s 112ms/step - loss: 2.1975 - accuracy: 0.1125\n",
      "Epoch 2/50\n",
      "15/15 [==============================] - 2s 113ms/step - loss: 2.1971 - accuracy: 0.1122\n",
      "Epoch 3/50\n",
      "15/15 [==============================] - 1s 98ms/step - loss: 2.1970 - accuracy: 0.1139\n",
      "Epoch 4/50\n",
      "15/15 [==============================] - 2s 108ms/step - loss: 2.1967 - accuracy: 0.1160\n",
      "Epoch 5/50\n",
      "15/15 [==============================] - 2s 116ms/step - loss: 2.1964 - accuracy: 0.1162\n",
      "Epoch 6/50\n",
      "15/15 [==============================] - 2s 110ms/step - loss: 2.1961 - accuracy: 0.1200\n",
      "Epoch 7/50\n",
      "15/15 [==============================] - 2s 112ms/step - loss: 2.1957 - accuracy: 0.1200\n",
      "Epoch 8/50\n",
      "15/15 [==============================] - 2s 112ms/step - loss: 2.1952 - accuracy: 0.1220\n",
      "Epoch 9/50\n",
      "15/15 [==============================] - 2s 117ms/step - loss: 2.1948 - accuracy: 0.1226\n",
      "Epoch 10/50\n",
      "15/15 [==============================] - 2s 129ms/step - loss: 2.1942 - accuracy: 0.1239\n",
      "Epoch 11/50\n",
      "15/15 [==============================] - 2s 114ms/step - loss: 2.1937 - accuracy: 0.1248\n",
      "Epoch 12/50\n",
      "15/15 [==============================] - 2s 119ms/step - loss: 2.1930 - accuracy: 0.1260\n",
      "Epoch 13/50\n",
      "15/15 [==============================] - 2s 105ms/step - loss: 2.1923 - accuracy: 0.1274\n",
      "Epoch 14/50\n",
      "15/15 [==============================] - 2s 111ms/step - loss: 2.1921 - accuracy: 0.1273\n",
      "Epoch 15/50\n",
      "15/15 [==============================] - 1s 94ms/step - loss: 2.1911 - accuracy: 0.1283\n",
      "Epoch 16/50\n",
      "15/15 [==============================] - 2s 108ms/step - loss: 2.1905 - accuracy: 0.1293\n",
      "Epoch 17/50\n",
      "15/15 [==============================] - 2s 105ms/step - loss: 2.1899 - accuracy: 0.1298\n",
      "Epoch 18/50\n",
      "15/15 [==============================] - 2s 112ms/step - loss: 2.1890 - accuracy: 0.1322\n",
      "Epoch 19/50\n",
      "15/15 [==============================] - 2s 109ms/step - loss: 2.1885 - accuracy: 0.1325\n",
      "Epoch 20/50\n",
      "15/15 [==============================] - 2s 111ms/step - loss: 2.1881 - accuracy: 0.1331\n",
      "Epoch 21/50\n",
      "15/15 [==============================] - 2s 119ms/step - loss: 2.1871 - accuracy: 0.1334\n",
      "Epoch 22/50\n",
      "15/15 [==============================] - 2s 121ms/step - loss: 2.1869 - accuracy: 0.1327\n",
      "Epoch 23/50\n",
      "15/15 [==============================] - 2s 122ms/step - loss: 2.1857 - accuracy: 0.1347\n",
      "Epoch 24/50\n",
      "15/15 [==============================] - 1s 89ms/step - loss: 2.1850 - accuracy: 0.1355\n",
      "Epoch 25/50\n",
      "15/15 [==============================] - 1s 98ms/step - loss: 2.1847 - accuracy: 0.1356\n",
      "Epoch 26/50\n",
      "15/15 [==============================] - 1s 90ms/step - loss: 2.1834 - accuracy: 0.1377\n",
      "Epoch 27/50\n",
      "15/15 [==============================] - 2s 108ms/step - loss: 2.1829 - accuracy: 0.1371\n",
      "Epoch 28/50\n",
      "15/15 [==============================] - 2s 112ms/step - loss: 2.1825 - accuracy: 0.1378\n",
      "Epoch 29/50\n",
      "15/15 [==============================] - 2s 116ms/step - loss: 2.1817 - accuracy: 0.1385\n",
      "Epoch 30/50\n",
      "15/15 [==============================] - 2s 114ms/step - loss: 2.1810 - accuracy: 0.1400\n",
      "Epoch 31/50\n",
      "15/15 [==============================] - 2s 100ms/step - loss: 2.1807 - accuracy: 0.1397\n",
      "Epoch 32/50\n",
      "15/15 [==============================] - 2s 115ms/step - loss: 2.1791 - accuracy: 0.1400\n",
      "Epoch 33/50\n",
      "15/15 [==============================] - 2s 115ms/step - loss: 2.1786 - accuracy: 0.1405\n",
      "Epoch 34/50\n",
      "15/15 [==============================] - 2s 107ms/step - loss: 2.1787 - accuracy: 0.1414\n",
      "Epoch 35/50\n",
      "15/15 [==============================] - 2s 118ms/step - loss: 2.1780 - accuracy: 0.1403\n",
      "Epoch 36/50\n",
      "15/15 [==============================] - 2s 110ms/step - loss: 2.1762 - accuracy: 0.1431\n",
      "Epoch 37/50\n",
      "15/15 [==============================] - 2s 102ms/step - loss: 2.1757 - accuracy: 0.1439\n",
      "Epoch 38/50\n",
      "15/15 [==============================] - 1s 96ms/step - loss: 2.1758 - accuracy: 0.1431\n",
      "Epoch 39/50\n",
      "15/15 [==============================] - 2s 107ms/step - loss: 2.1751 - accuracy: 0.1431\n",
      "Epoch 40/50\n",
      "15/15 [==============================] - 2s 102ms/step - loss: 2.1738 - accuracy: 0.1441\n",
      "Epoch 41/50\n",
      "15/15 [==============================] - 2s 109ms/step - loss: 2.1735 - accuracy: 0.1437\n",
      "Epoch 42/50\n",
      "15/15 [==============================] - 1s 98ms/step - loss: 2.1725 - accuracy: 0.1464 0s - loss: 2.1723 - accuracy: \n",
      "Epoch 43/50\n",
      "15/15 [==============================] - 2s 113ms/step - loss: 2.1719 - accuracy: 0.1456\n",
      "Epoch 44/50\n",
      "15/15 [==============================] - 2s 105ms/step - loss: 2.1721 - accuracy: 0.1456\n",
      "Epoch 45/50\n",
      "15/15 [==============================] - 2s 103ms/step - loss: 2.1700 - accuracy: 0.1461\n",
      "Epoch 46/50\n",
      "15/15 [==============================] - 1s 97ms/step - loss: 2.1698 - accuracy: 0.1461\n",
      "Epoch 47/50\n",
      "15/15 [==============================] - 2s 123ms/step - loss: 2.1699 - accuracy: 0.1469\n",
      "Epoch 48/50\n",
      "15/15 [==============================] - 1s 99ms/step - loss: 2.1679 - accuracy: 0.1480\n",
      "Epoch 49/50\n",
      "15/15 [==============================] - 1s 91ms/step - loss: 2.1688 - accuracy: 0.1462\n",
      "Epoch 50/50\n",
      "15/15 [==============================] - 2s 111ms/step - loss: 2.1674 - accuracy: 0.1469\n"
     ]
    }
   ],
   "source": [
    "history=model.fit(my_data_generator, batch_size=batch_size, epochs=50, verbose=1)"
   ]
  },
  {
   "cell_type": "code",
   "execution_count": 42,
   "metadata": {
    "execution": {
     "iopub.execute_input": "2020-06-09T10:12:58.672640Z",
     "iopub.status.busy": "2020-06-09T10:12:58.672388Z",
     "iopub.status.idle": "2020-06-09T10:12:59.023899Z",
     "shell.execute_reply": "2020-06-09T10:12:59.023036Z",
     "shell.execute_reply.started": "2020-06-09T10:12:58.672612Z"
    }
   },
   "outputs": [
    {
     "data": {
      "image/png": "[encoded data removed]",
      "text/plain": [
       "<Figure size 432x288 with 1 Axes>"
      ]
     },
     "metadata": {
      "needs_background": "light"
     },
     "output_type": "display_data"
    },
    {
     "data": {
      "image/png": "[encoded data removed]",
      "text/plain": [
       "<Figure size 432x288 with 1 Axes>"
      ]
     },
     "metadata": {
      "needs_background": "light"
     },
     "output_type": "display_data"
    }
   ],
   "source": [
    "plt.title('Loss curve')\n",
    "plt.xlabel('Epochs')\n",
    "plt.ylabel('Categorical CrossEnropy error')\n",
    "plt.plot(history.history['loss'])\n",
    "plt.show()\n",
    "plt.title('Accuracy')\n",
    "plt.xlabel('Epochs')\n",
    "plt.ylabel('Accuracy')\n",
    "plt.plot(history.history['accuracy'])\n",
    "plt.show()\n",
    "\n",
    "#print(history.history)"
   ]
  },
  {
   "cell_type": "code",
   "execution_count": 30,
   "metadata": {
    "execution": {
     "iopub.execute_input": "2020-06-09T08:33:24.872882Z",
     "iopub.status.busy": "2020-06-09T08:33:24.872573Z",
     "iopub.status.idle": "2020-06-09T08:33:25.490622Z",
     "shell.execute_reply": "2020-06-09T08:33:25.489920Z",
     "shell.execute_reply.started": "2020-06-09T08:33:24.872844Z"
    }
   },
   "outputs": [
    {
     "name": "stdout",
     "output_type": "stream",
     "text": [
      "(3, 81)\n",
      "(3, 81)\n"
     ]
    }
   ],
   "source": [
    "eval_generator=MyDataGenerator(X_eval[:3], y_eval[:3], batch_size=batch_size)"
   ]
  },
  {
   "cell_type": "code",
   "execution_count": 31,
   "metadata": {
    "execution": {
     "iopub.execute_input": "2020-06-09T08:33:30.404476Z",
     "iopub.status.busy": "2020-06-09T08:33:30.404217Z",
     "iopub.status.idle": "2020-06-09T08:33:30.701660Z",
     "shell.execute_reply": "2020-06-09T08:33:30.701044Z",
     "shell.execute_reply.started": "2020-06-09T08:33:30.404449Z"
    },
    "scrolled": true
   },
   "outputs": [
    {
     "name": "stdout",
     "output_type": "stream",
     "text": [
      "range(0, 32)\n",
      "\n",
      "working on 0th example\n",
      "[[0 2 9 0 0 0 5 8 0]\n",
      " [6 0 0 3 2 0 4 0 7]\n",
      " [1 0 0 8 0 0 0 0 0]\n",
      " [0 0 0 0 6 0 3 0 1]\n",
      " [0 7 1 0 0 4 0 6 0]\n",
      " [0 0 0 2 3 0 0 9 0]\n",
      " [0 0 4 6 5 0 0 0 9]\n",
      " [7 8 3 0 1 0 0 0 5]\n",
      " [5 9 0 0 0 0 0 7 2]]\n",
      "0th element is 0\n",
      "3th element is 0\n",
      "4th element is 0\n",
      "5th element is 0\n",
      "8th element is 0\n",
      "10th element is 0\n",
      "11th element is 0\n",
      "14th element is 0\n",
      "16th element is 0\n",
      "19th element is 0\n",
      "20th element is 0\n",
      "22th element is 0\n",
      "23th element is 0\n",
      "24th element is 0\n",
      "25th element is 0\n",
      "26th element is 0\n",
      "27th element is 0\n",
      "28th element is 0\n",
      "29th element is 0\n",
      "30th element is 0\n",
      "32th element is 0\n",
      "34th element is 0\n",
      "36th element is 0\n",
      "39th element is 0\n",
      "40th element is 0\n",
      "42th element is 0\n",
      "44th element is 0\n",
      "45th element is 0\n",
      "46th element is 0\n",
      "47th element is 0\n",
      "50th element is 0\n",
      "51th element is 0\n",
      "53th element is 0\n",
      "54th element is 0\n",
      "55th element is 0\n",
      "59th element is 0\n",
      "60th element is 0\n",
      "61th element is 0\n",
      "66th element is 0\n",
      "68th element is 0\n",
      "69th element is 0\n",
      "70th element is 0\n",
      "74th element is 0\n",
      "75th element is 0\n",
      "76th element is 0\n",
      "77th element is 0\n",
      "78th element is 0\n",
      "working on 1th example\n",
      "[[6 0 9 0 7 0 0 8 0]\n",
      " [5 0 0 4 0 0 0 0 2]\n",
      " [0 8 0 0 1 0 5 9 0]\n",
      " [0 0 3 7 5 0 0 2 0]\n",
      " [9 0 6 0 0 0 1 0 4]\n",
      " [2 0 8 9 0 0 0 6 0]\n",
      " [0 2 1 0 6 4 0 0 8]\n",
      " [7 0 4 0 0 2 3 1 5]\n",
      " [0 0 0 0 0 0 0 0 0]]\n",
      "1th element is 0\n",
      "3th element is 0\n",
      "5th element is 0\n",
      "6th element is 0\n",
      "8th element is 0\n",
      "10th element is 0\n",
      "11th element is 0\n",
      "13th element is 0\n",
      "14th element is 0\n",
      "15th element is 0\n",
      "16th element is 0\n",
      "18th element is 0\n",
      "20th element is 0\n",
      "21th element is 0\n",
      "23th element is 0\n",
      "26th element is 0\n",
      "27th element is 0\n",
      "28th element is 0\n",
      "32th element is 0\n",
      "33th element is 0\n",
      "35th element is 0\n",
      "37th element is 0\n",
      "39th element is 0\n",
      "40th element is 0\n",
      "41th element is 0\n",
      "43th element is 0\n",
      "46th element is 0\n",
      "49th element is 0\n",
      "50th element is 0\n",
      "51th element is 0\n",
      "53th element is 0\n",
      "54th element is 0\n",
      "57th element is 0\n",
      "60th element is 0\n",
      "61th element is 0\n",
      "64th element is 0\n",
      "66th element is 0\n",
      "67th element is 0\n",
      "72th element is 0\n",
      "73th element is 0\n",
      "74th element is 0\n",
      "75th element is 0\n",
      "76th element is 0\n",
      "77th element is 0\n",
      "78th element is 0\n",
      "79th element is 0\n",
      "80th element is 0\n",
      "working on 2th example\n",
      "[[2 0 0 0 6 0 0 8 0]\n",
      " [0 7 0 0 1 0 4 0 5]\n",
      " [0 0 0 3 0 4 0 9 0]\n",
      " [0 3 8 0 0 0 2 0 0]\n",
      " [0 0 4 8 7 0 0 0 6]\n",
      " [9 0 1 5 0 2 0 3 7]\n",
      " [1 0 2 0 0 9 0 0 3]\n",
      " [0 8 0 6 3 0 0 0 9]\n",
      " [6 0 0 4 0 5 0 0 0]]\n",
      "1th element is 0\n",
      "2th element is 0\n",
      "3th element is 0\n",
      "5th element is 0\n",
      "6th element is 0\n",
      "8th element is 0\n",
      "9th element is 0\n",
      "11th element is 0\n",
      "12th element is 0\n",
      "14th element is 0\n",
      "16th element is 0\n",
      "18th element is 0\n",
      "19th element is 0\n",
      "20th element is 0\n",
      "22th element is 0\n",
      "24th element is 0\n",
      "26th element is 0\n",
      "27th element is 0\n",
      "30th element is 0\n",
      "31th element is 0\n",
      "32th element is 0\n",
      "34th element is 0\n",
      "35th element is 0\n",
      "36th element is 0\n",
      "37th element is 0\n",
      "41th element is 0\n",
      "42th element is 0\n",
      "43th element is 0\n",
      "46th element is 0\n",
      "49th element is 0\n",
      "51th element is 0\n",
      "55th element is 0\n",
      "57th element is 0\n",
      "58th element is 0\n",
      "60th element is 0\n",
      "61th element is 0\n",
      "63th element is 0\n",
      "65th element is 0\n",
      "68th element is 0\n",
      "69th element is 0\n",
      "70th element is 0\n",
      "73th element is 0\n",
      "74th element is 0\n",
      "76th element is 0\n",
      "78th element is 0\n",
      "79th element is 0\n",
      "80th element is 0\n",
      "(141, 81)\n",
      "(141, 9)\n",
      "range(0, 32)\n",
      "\n",
      "working on 0th example\n",
      "[[0 2 9 0 0 0 5 8 0]\n",
      " [6 0 0 3 2 0 4 0 7]\n",
      " [1 0 0 8 0 0 0 0 0]\n",
      " [0 0 0 0 6 0 3 0 1]\n",
      " [0 7 1 0 0 4 0 6 0]\n",
      " [0 0 0 2 3 0 0 9 0]\n",
      " [0 0 4 6 5 0 0 0 9]\n",
      " [7 8 3 0 1 0 0 0 5]\n",
      " [5 9 0 0 0 0 0 7 2]]\n",
      "0th element is 0\n",
      "3th element is 0\n",
      "4th element is 0\n",
      "5th element is 0\n",
      "8th element is 0\n",
      "10th element is 0\n",
      "11th element is 0\n",
      "14th element is 0\n",
      "16th element is 0\n",
      "19th element is 0\n",
      "20th element is 0\n",
      "22th element is 0\n",
      "23th element is 0\n",
      "24th element is 0\n",
      "25th element is 0\n",
      "26th element is 0\n",
      "27th element is 0\n",
      "28th element is 0\n",
      "29th element is 0\n",
      "30th element is 0\n",
      "32th element is 0\n",
      "34th element is 0\n",
      "36th element is 0\n",
      "39th element is 0\n",
      "40th element is 0\n",
      "42th element is 0\n",
      "44th element is 0\n",
      "45th element is 0\n",
      "46th element is 0\n",
      "47th element is 0\n",
      "50th element is 0\n",
      "51th element is 0\n",
      "53th element is 0\n",
      "54th element is 0\n",
      "55th element is 0\n",
      "59th element is 0\n",
      "60th element is 0\n",
      "61th element is 0\n",
      "66th element is 0\n",
      "68th element is 0\n",
      "69th element is 0\n",
      "70th element is 0\n",
      "74th element is 0\n",
      "75th element is 0\n",
      "76th element is 0\n",
      "77th element is 0\n",
      "78th element is 0\n",
      "working on 1th example\n",
      "[[6 0 9 0 7 0 0 8 0]\n",
      " [5 0 0 4 0 0 0 0 2]\n",
      " [0 8 0 0 1 0 5 9 0]\n",
      " [0 0 3 7 5 0 0 2 0]\n",
      " [9 0 6 0 0 0 1 0 4]\n",
      " [2 0 8 9 0 0 0 6 0]\n",
      " [0 2 1 0 6 4 0 0 8]\n",
      " [7 0 4 0 0 2 3 1 5]\n",
      " [0 0 0 0 0 0 0 0 0]]\n",
      "1th element is 0\n",
      "3th element is 0\n",
      "5th element is 0\n",
      "6th element is 0\n",
      "8th element is 0\n",
      "10th element is 0\n",
      "11th element is 0\n",
      "13th element is 0\n",
      "14th element is 0\n",
      "15th element is 0\n",
      "16th element is 0\n",
      "18th element is 0\n",
      "20th element is 0\n",
      "21th element is 0\n",
      "23th element is 0\n",
      "26th element is 0\n",
      "27th element is 0\n",
      "28th element is 0\n",
      "32th element is 0\n",
      "33th element is 0\n",
      "35th element is 0\n",
      "37th element is 0\n",
      "39th element is 0\n",
      "40th element is 0\n",
      "41th element is 0\n",
      "43th element is 0\n",
      "46th element is 0\n",
      "49th element is 0\n",
      "50th element is 0\n",
      "51th element is 0\n",
      "53th element is 0\n",
      "54th element is 0\n",
      "57th element is 0\n",
      "60th element is 0\n",
      "61th element is 0\n",
      "64th element is 0\n",
      "66th element is 0\n",
      "67th element is 0\n",
      "72th element is 0\n",
      "73th element is 0\n",
      "74th element is 0\n",
      "75th element is 0\n",
      "76th element is 0\n",
      "77th element is 0\n",
      "78th element is 0\n",
      "79th element is 0\n",
      "80th element is 0\n",
      "working on 2th example\n",
      "[[2 0 0 0 6 0 0 8 0]\n",
      " [0 7 0 0 1 0 4 0 5]\n",
      " [0 0 0 3 0 4 0 9 0]\n",
      " [0 3 8 0 0 0 2 0 0]\n",
      " [0 0 4 8 7 0 0 0 6]\n",
      " [9 0 1 5 0 2 0 3 7]\n",
      " [1 0 2 0 0 9 0 0 3]\n",
      " [0 8 0 6 3 0 0 0 9]\n",
      " [6 0 0 4 0 5 0 0 0]]\n",
      "1th element is 0\n",
      "2th element is 0\n",
      "3th element is 0\n",
      "5th element is 0\n",
      "6th element is 0\n",
      "8th element is 0\n",
      "9th element is 0\n",
      "11th element is 0\n",
      "12th element is 0\n",
      "14th element is 0\n",
      "16th element is 0\n",
      "18th element is 0\n",
      "19th element is 0\n",
      "20th element is 0\n",
      "22th element is 0\n",
      "24th element is 0\n",
      "26th element is 0\n",
      "27th element is 0\n",
      "30th element is 0\n",
      "31th element is 0\n",
      "32th element is 0\n",
      "34th element is 0\n",
      "35th element is 0\n",
      "36th element is 0\n",
      "37th element is 0\n",
      "41th element is 0\n",
      "42th element is 0\n",
      "43th element is 0\n",
      "46th element is 0\n",
      "49th element is 0\n",
      "51th element is 0\n",
      "55th element is 0\n",
      "57th element is 0\n",
      "58th element is 0\n",
      "60th element is 0\n",
      "61th element is 0\n",
      "63th element is 0\n",
      "65th element is 0\n",
      "68th element is 0\n",
      "69th element is 0\n",
      "70th element is 0\n",
      "73th element is 0\n",
      "74th element is 0\n",
      "76th element is 0\n",
      "78th element is 0\n",
      "79th element is 0\n",
      "80th element is 0\n",
      "(141, 81)\n",
      "(141, 9)\n",
      "1/1 [==============================] - 0s 790us/step - loss: 9.3416 - accuracy: 0.1135\n"
     ]
    },
    {
     "data": {
      "text/plain": [
       "[9.341645240783691, 0.11347517371177673]"
      ]
     },
     "execution_count": 31,
     "metadata": {},
     "output_type": "execute_result"
    }
   ],
   "source": [
    "model.evaluate(eval_generator, batch_size=batch_size, verbose=1)"
   ]
  },
  {
   "cell_type": "code",
   "execution_count": 33,
   "metadata": {
    "execution": {
     "iopub.execute_input": "2020-06-09T08:34:45.524505Z",
     "iopub.status.busy": "2020-06-09T08:34:45.524271Z",
     "iopub.status.idle": "2020-06-09T08:34:45.527738Z",
     "shell.execute_reply": "2020-06-09T08:34:45.526926Z",
     "shell.execute_reply.started": "2020-06-09T08:34:45.524477Z"
    }
   },
   "outputs": [],
   "source": [
    "ex_idx = 0"
   ]
  },
  {
   "cell_type": "code",
   "execution_count": 40,
   "metadata": {
    "execution": {
     "iopub.execute_input": "2020-06-09T08:38:31.480689Z",
     "iopub.status.busy": "2020-06-09T08:38:31.480408Z",
     "iopub.status.idle": "2020-06-09T08:38:31.484925Z",
     "shell.execute_reply": "2020-06-09T08:38:31.484244Z",
     "shell.execute_reply.started": "2020-06-09T08:38:31.480659Z"
    }
   },
   "outputs": [
    {
     "data": {
      "text/plain": [
       "modin.pandas.series.Series"
      ]
     },
     "execution_count": 40,
     "metadata": {},
     "output_type": "execute_result"
    }
   ],
   "source": [
    "type(X)"
   ]
  },
  {
   "cell_type": "code",
   "execution_count": 42,
   "metadata": {
    "execution": {
     "iopub.execute_input": "2020-06-09T08:39:02.375018Z",
     "iopub.status.busy": "2020-06-09T08:39:02.374784Z",
     "iopub.status.idle": "2020-06-09T08:39:02.582858Z",
     "shell.execute_reply": "2020-06-09T08:39:02.582097Z",
     "shell.execute_reply.started": "2020-06-09T08:39:02.374990Z"
    }
   },
   "outputs": [
    {
     "name": "stdout",
     "output_type": "stream",
     "text": [
      "004300209005009001070060043006002087190007400050083000600000105003508690042910300\n",
      "<class 'str'>\n"
     ]
    }
   ],
   "source": [
    "print(X.loc[ex_idx])\n",
    "print(type(X.loc[ex_idx]))"
   ]
  },
  {
   "cell_type": "code",
   "execution_count": 35,
   "metadata": {
    "execution": {
     "iopub.execute_input": "2020-06-09T08:34:46.783290Z",
     "iopub.status.busy": "2020-06-09T08:34:46.783041Z",
     "iopub.status.idle": "2020-06-09T08:34:46.911405Z",
     "shell.execute_reply": "2020-06-09T08:34:46.910534Z",
     "shell.execute_reply.started": "2020-06-09T08:34:46.783264Z"
    }
   },
   "outputs": [
    {
     "name": "stdout",
     "output_type": "stream",
     "text": [
      "864371259325849761971265843436192587198657432257483916689734125713528694542916378\n"
     ]
    }
   ],
   "source": [
    "print(y[ex_idx])"
   ]
  },
  {
   "cell_type": "code",
   "execution_count": 43,
   "metadata": {
    "execution": {
     "iopub.execute_input": "2020-06-09T08:41:04.391266Z",
     "iopub.status.busy": "2020-06-09T08:41:04.390937Z",
     "iopub.status.idle": "2020-06-09T08:41:04.520687Z",
     "shell.execute_reply": "2020-06-09T08:41:04.519924Z",
     "shell.execute_reply.started": "2020-06-09T08:41:04.391223Z"
    }
   },
   "outputs": [
    {
     "name": "stdout",
     "output_type": "stream",
     "text": [
      "004300209005009001070060043006002087190007400050083000600000105003508690042910300\n"
     ]
    }
   ],
   "source": [
    "solv = X[ex_idx]\n",
    "print(solv)"
   ]
  },
  {
   "cell_type": "code",
   "execution_count": 50,
   "metadata": {
    "execution": {
     "iopub.execute_input": "2020-06-09T08:44:59.539952Z",
     "iopub.status.busy": "2020-06-09T08:44:59.539722Z",
     "iopub.status.idle": "2020-06-09T08:44:59.547380Z",
     "shell.execute_reply": "2020-06-09T08:44:59.546575Z",
     "shell.execute_reply.started": "2020-06-09T08:44:59.539926Z"
    }
   },
   "outputs": [],
   "source": [
    "class PredictionGenerator(Sequence):\n",
    "    def __init__(self, X, batch_size=32, dim=(81,), n_channels=1, n_classes=9, shuffle=False):\n",
    "        self.dim=dim\n",
    "        self.batch_size=batch_size\n",
    "        self.n_channels=n_channels\n",
    "        self.n_classes=n_classes\n",
    "        self.shuffle=shuffle\n",
    "        self.X=self.__convert_to_array(X)\n",
    "        self.on_epoch_end()\n",
    "        \n",
    "    def __convert_to_array(self, x):\n",
    "        ret_ser = np.zeros((1, 81), dtype=int)\n",
    "        ret_ser[0] = [int(s) for s in x]\n",
    "        print(ret_ser.shape)\n",
    "        return ret_ser\n",
    "        \n",
    "        \n",
    "    \n",
    "    def __len__(self):\n",
    "        return 1\n",
    "    \n",
    "    def __getitem__(self, i):\n",
    "        return self.X"
   ]
  },
  {
   "cell_type": "code",
   "execution_count": 51,
   "metadata": {
    "execution": {
     "iopub.execute_input": "2020-06-09T08:45:00.491343Z",
     "iopub.status.busy": "2020-06-09T08:45:00.491092Z",
     "iopub.status.idle": "2020-06-09T08:45:00.494955Z",
     "shell.execute_reply": "2020-06-09T08:45:00.494248Z",
     "shell.execute_reply.started": "2020-06-09T08:45:00.491316Z"
    }
   },
   "outputs": [
    {
     "name": "stdout",
     "output_type": "stream",
     "text": [
      "(1, 81)\n"
     ]
    }
   ],
   "source": [
    "my_predictor=PredictionGenerator(solv)"
   ]
  },
  {
   "cell_type": "code",
   "execution_count": 55,
   "metadata": {
    "execution": {
     "iopub.execute_input": "2020-06-09T08:47:02.811323Z",
     "iopub.status.busy": "2020-06-09T08:47:02.811101Z",
     "iopub.status.idle": "2020-06-09T08:47:02.816832Z",
     "shell.execute_reply": "2020-06-09T08:47:02.816140Z",
     "shell.execute_reply.started": "2020-06-09T08:47:02.811297Z"
    }
   },
   "outputs": [
    {
     "name": "stdout",
     "output_type": "stream",
     "text": [
      "[[0 0 4 3 0 0 2 0 9]\n",
      " [0 0 5 0 0 9 0 0 1]\n",
      " [0 7 0 0 6 0 0 4 3]\n",
      " [0 0 6 0 0 2 0 8 7]\n",
      " [1 9 0 0 0 7 4 0 0]\n",
      " [0 5 0 0 8 3 0 0 0]\n",
      " [6 0 0 0 0 0 1 0 5]\n",
      " [0 0 3 5 0 8 6 9 0]\n",
      " [0 4 2 9 1 0 3 0 0]]\n",
      "(81,)\n"
     ]
    }
   ],
   "source": [
    "solution=np.array([int(s) for s in solv])\n",
    "print(solution.reshape((9,9)))\n",
    "print(solution.shape)"
   ]
  },
  {
   "cell_type": "code",
   "execution_count": 56,
   "metadata": {
    "execution": {
     "iopub.execute_input": "2020-06-09T08:47:22.408009Z",
     "iopub.status.busy": "2020-06-09T08:47:22.407785Z",
     "iopub.status.idle": "2020-06-09T08:47:24.155298Z",
     "shell.execute_reply": "2020-06-09T08:47:24.154695Z",
     "shell.execute_reply.started": "2020-06-09T08:47:22.407982Z"
    }
   },
   "outputs": [
    {
     "name": "stdout",
     "output_type": "stream",
     "text": [
      "[[7 7 4 3 7 7 2 7 9]\n",
      " [7 7 5 7 7 9 7 7 1]\n",
      " [7 7 7 7 6 7 7 4 3]\n",
      " [7 7 6 7 7 2 7 8 7]\n",
      " [1 9 7 7 7 7 4 7 7]\n",
      " [7 5 7 7 8 3 7 7 7]\n",
      " [6 7 7 7 7 7 1 7 5]\n",
      " [7 7 3 5 7 8 6 9 7]\n",
      " [7 4 2 9 1 7 3 7 7]]\n"
     ]
    }
   ],
   "source": [
    "for i,x in enumerate(solv):\n",
    "    if int(x)==0:\n",
    "        s = model.predict_classes(my_predictor)\n",
    "        solution[i]=s+1\n",
    "print(solution.reshape((9,9)))"
   ]
  },
  {
   "cell_type": "code",
   "execution_count": null,
   "metadata": {},
   "outputs": [],
   "source": []
  }
 ],
 "metadata": {
  "kernelspec": {
   "display_name": "Python [conda env:tf-gpu] *",
   "language": "python",
   "name": "conda-env-tf-gpu-py"
  },
  "language_info": {
   "codemirror_mode": {
    "name": "ipython",
    "version": 3
   },
   "file_extension": ".py",
   "mimetype": "text/x-python",
   "name": "python",
   "nbconvert_exporter": "python",
   "pygments_lexer": "ipython3",
   "version": "3.7.7"
  }
 },
 "nbformat": 4,
 "nbformat_minor": 4
}
