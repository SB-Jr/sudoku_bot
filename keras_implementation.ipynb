{
 "cells": [
  {
   "cell_type": "markdown",
   "metadata": {
    "toc": true
   },
   "source": [
    "<h1>Table of Contents<span class=\"tocSkip\"></span></h1>\n",
    "<div class=\"toc\"><ul class=\"toc-item\"><li><span><a href=\"#Imports\" data-toc-modified-id=\"Imports-1\"><span class=\"toc-item-num\">1&nbsp;&nbsp;</span>Imports</a></span></li><li><span><a href=\"#Data-preprocessing\" data-toc-modified-id=\"Data-preprocessing-2\"><span class=\"toc-item-num\">2&nbsp;&nbsp;</span>Data preprocessing</a></span></li><li><span><a href=\"#Defining-model\" data-toc-modified-id=\"Defining-model-3\"><span class=\"toc-item-num\">3&nbsp;&nbsp;</span>Defining model</a></span><ul class=\"toc-item\"><li><span><a href=\"#Creating-a-basic-model\" data-toc-modified-id=\"Creating-a-basic-model-3.1\"><span class=\"toc-item-num\">3.1&nbsp;&nbsp;</span>Creating a basic model</a></span></li></ul></li><li><span><a href=\"#Compiling-model\" data-toc-modified-id=\"Compiling-model-4\"><span class=\"toc-item-num\">4&nbsp;&nbsp;</span>Compiling model</a></span></li><li><span><a href=\"#Model-fitting\" data-toc-modified-id=\"Model-fitting-5\"><span class=\"toc-item-num\">5&nbsp;&nbsp;</span>Model fitting</a></span></li><li><span><a href=\"#Model-Evaluation\" data-toc-modified-id=\"Model-Evaluation-6\"><span class=\"toc-item-num\">6&nbsp;&nbsp;</span>Model Evaluation</a></span></li><li><span><a href=\"#Model-testing\" data-toc-modified-id=\"Model-testing-7\"><span class=\"toc-item-num\">7&nbsp;&nbsp;</span>Model testing</a></span></li><li><span><a href=\"#Saving-the-model\" data-toc-modified-id=\"Saving-the-model-8\"><span class=\"toc-item-num\">8&nbsp;&nbsp;</span>Saving the model</a></span></li></ul></div>"
   ]
  },
  {
   "cell_type": "markdown",
   "metadata": {},
   "source": [
    "# Imports"
   ]
  },
  {
   "cell_type": "code",
   "execution_count": 13,
   "metadata": {
    "ExecuteTime": {
     "end_time": "2020-05-02T14:58:29.778642Z",
     "start_time": "2020-05-02T14:58:29.560538Z"
    }
   },
   "outputs": [],
   "source": [
    "import pandas as pd\n",
    "from tensorflow.keras import Sequential\n",
    "from tensorflow.keras.layers import Dense\n",
    "from tensorflow.keras.utils import plot_model\n",
    "from tensorflow.keras.callbacks import EarlyStopping\n",
    "from sklearn.model_selection import train_test_split\n",
    "import matplotlib.pyplot as plt"
   ]
  },
  {
   "cell_type": "markdown",
   "metadata": {},
   "source": [
    "# Data preprocessing"
   ]
  },
  {
   "cell_type": "code",
   "execution_count": 2,
   "metadata": {
    "ExecuteTime": {
     "end_time": "2020-05-02T14:05:57.978088Z",
     "start_time": "2020-05-02T14:05:55.228575Z"
    }
   },
   "outputs": [
    {
     "name": "stdout",
     "output_type": "stream",
     "text": [
      "(999999, 2)\n"
     ]
    }
   ],
   "source": [
    "data_path = 'dataset/sudoku.csv'\n",
    "df = pd.read_csv(data_path, skiprows=1)\n",
    "print(df.shape)"
   ]
  },
  {
   "cell_type": "code",
   "execution_count": 3,
   "metadata": {
    "ExecuteTime": {
     "end_time": "2020-05-02T14:05:58.907946Z",
     "start_time": "2020-05-02T14:05:58.900955Z"
    }
   },
   "outputs": [
    {
     "name": "stdout",
     "output_type": "stream",
     "text": [
      "Quiz:\n",
      " x 4 x 1 x x x 5 x \n",
      " 1 x 7 x x 3 9 6 x \n",
      " 5 2 x x x 8 x x x \n",
      " x x x x x x x 1 7 \n",
      " x x x 9 x 6 8 x x \n",
      " 8 x 3 x 5 x 6 2 x \n",
      " x 9 x x 6 x 5 4 3 \n",
      " 6 x x x 8 x 7 x x \n",
      " 2 5 x x 9 7 1 x x \n",
      "Solution:\n",
      " 3 4 6 1 7 9 2 5 8 \n",
      " 1 8 7 5 2 3 9 6 4 \n",
      " 5 2 9 6 4 8 3 7 1 \n",
      " 9 6 5 8 3 2 4 1 7 \n",
      " 4 7 2 9 1 6 8 3 5 \n",
      " 8 1 3 7 5 4 6 2 9 \n",
      " 7 9 8 2 6 1 5 4 3 \n",
      " 6 3 1 4 8 5 7 9 2 \n",
      " 2 5 4 3 9 7 1 8 6 \n"
     ]
    }
   ],
   "source": [
    "example = df.values[0]\n",
    "#print(example[0])\n",
    "print(\"Quiz:\")\n",
    "for i in range(9):\n",
    "    output = str(example[0][9*i : 9*(i+1)])\n",
    "    # replacing 0 with x to represent nicely\n",
    "    print(output.replace('0', 'x').replace('', ' '))\n",
    "\n",
    "print(\"Solution:\")\n",
    "for i in range(9):\n",
    "    output = str(example[1][9*i : 9*(i+1)])\n",
    "    print(output.replace('0', 'x').replace('', ' '))"
   ]
  },
  {
   "cell_type": "code",
   "execution_count": 4,
   "metadata": {
    "ExecuteTime": {
     "end_time": "2020-05-02T14:06:59.947004Z",
     "start_time": "2020-05-02T14:06:01.690540Z"
    },
    "scrolled": true
   },
   "outputs": [
    {
     "name": "stdout",
     "output_type": "stream",
     "text": [
      "[0. 4. 0. 1. 0. 0. 0. 5. 0. 1. 0. 7. 0. 0. 3. 9. 6. 0. 5. 2. 0. 0. 0. 8.\n",
      " 0. 0. 0. 0. 0. 0. 0. 0. 0. 0. 1. 7. 0. 0. 0. 9. 0. 6. 8. 0. 0. 8. 0. 3.\n",
      " 0. 5. 0. 6. 2. 0. 0. 9. 0. 0. 6. 0. 5. 4. 3. 6. 0. 0. 0. 8. 0. 7. 0. 0.\n",
      " 2. 5. 0. 0. 9. 7. 1. 0. 0.]\n",
      "[3. 4. 6. 1. 7. 9. 2. 5. 8. 1. 8. 7. 5. 2. 3. 9. 6. 4. 5. 2. 9. 6. 4. 8.\n",
      " 3. 7. 1. 9. 6. 5. 8. 3. 2. 4. 1. 7. 4. 7. 2. 9. 1. 6. 8. 3. 5. 8. 1. 3.\n",
      " 7. 5. 4. 6. 2. 9. 7. 9. 8. 2. 6. 1. 5. 4. 3. 6. 3. 1. 4. 8. 5. 7. 9. 2.\n",
      " 2. 5. 4. 3. 9. 7. 1. 8. 6.]\n"
     ]
    }
   ],
   "source": [
    "# converting the input into numpy 2d array\n",
    "no_examples = df.shape[0]\n",
    "\n",
    "def transform_data_into_array(series):\n",
    "    str_series = str(series)\n",
    "    np_arr = np.array([int(x) for x in list(str_series)])\n",
    "    return np_arr.reshape((81,))\n",
    "\n",
    "X = np.zeros((no_examples, 81,))\n",
    "Y = np.zeros((no_examples, 81,))\n",
    "#X_modified = []\n",
    "#Y_modified = []\n",
    "for i in range(no_examples):\n",
    "    series = df.values[i]\n",
    "    X[i] = transform_data_into_array(series[0])\n",
    "    Y[i] = transform_data_into_array(series[1])\n",
    "    #X_temp = np.copy(X[i])\n",
    "    #for pos, x in np.ndenumerate(X_temp):\n",
    "    #    if x == 0:\n",
    "    #        X_modified.append(np.copy(X_temp))\n",
    "    #        X_temp[pos] = Y[i][pos]\n",
    "    #        Y_modified.append(Y[i][pos])\n",
    "        \n",
    "#X_modified = np.array(X_modified)\n",
    "#Y_modified = np.array(Y_modified)\n",
    "print(X[0])\n",
    "print(Y[0])\n",
    "#print(X_modified[0])\n",
    "#print(Y_modified[0])"
   ]
  },
  {
   "cell_type": "code",
   "execution_count": 6,
   "metadata": {
    "ExecuteTime": {
     "end_time": "2020-05-02T13:40:57.710709Z",
     "start_time": "2020-05-02T13:40:57.706740Z"
    }
   },
   "outputs": [
    {
     "name": "stdout",
     "output_type": "stream",
     "text": [
      "[3. 4. 6. 1. 7. 9. 2. 5. 8. 1. 8. 7. 5. 2. 3. 9. 6. 4. 5. 2. 9. 6. 4. 8.\n",
      " 3. 7. 1. 9. 6. 5. 8. 3. 2. 4. 1. 7. 4. 7. 2. 9. 1. 6. 8. 3. 5. 8. 1. 3.\n",
      " 7. 5. 4. 6. 2. 9. 7. 9. 8. 2. 6. 1. 5. 4. 3. 6. 3. 1. 4. 8. 5. 7. 9. 2.\n",
      " 2. 5. 4. 3. 9. 7. 1. 8. 6.]\n",
      "3.0\n"
     ]
    }
   ],
   "source": [
    "#print(X_modified[1])\n",
    "#print(Y_modified[1])"
   ]
  },
  {
   "cell_type": "code",
   "execution_count": 16,
   "metadata": {
    "ExecuteTime": {
     "end_time": "2020-05-02T15:01:51.782257Z",
     "start_time": "2020-05-02T15:01:45.326244Z"
    }
   },
   "outputs": [
    {
     "name": "stdout",
     "output_type": "stream",
     "text": [
      "(699999, 81)\n",
      "(699999, 81)\n",
      "(300000, 81)\n",
      "(300000, 81)\n"
     ]
    }
   ],
   "source": [
    "X_train, X_test, y_train, y_test = train_test_split(X, Y, test_size = 0.3)\n",
    "print(X_train.shape)\n",
    "print(y_train.shape)\n",
    "print(X_test.shape)\n",
    "print(y_test.shape)"
   ]
  },
  {
   "cell_type": "markdown",
   "metadata": {},
   "source": [
    "# Defining model"
   ]
  },
  {
   "cell_type": "markdown",
   "metadata": {},
   "source": [
    "## Creating a basic model\n",
    "\n",
    "Model has 3 hidden layers of 100 nodes each. Input has 81(9x9) nodes input and output is also of 81 nodes."
   ]
  },
  {
   "cell_type": "code",
   "execution_count": 6,
   "metadata": {
    "ExecuteTime": {
     "end_time": "2020-05-02T14:10:58.097253Z",
     "start_time": "2020-05-02T14:10:52.585601Z"
    }
   },
   "outputs": [],
   "source": [
    "model = Sequential()\n",
    "model.add(Dense(729, activation = 'relu', kernel_initializer = 'he_normal', input_shape=(81,)))\n",
    "model.add(Dense(729, activation = 'relu', kernel_initializer = 'he_normal'))\n",
    "model.add(Dense(729, activation = 'relu', kernel_initializer = 'he_normal'))\n",
    "model.add(Dense(81))"
   ]
  },
  {
   "cell_type": "code",
   "execution_count": 7,
   "metadata": {
    "ExecuteTime": {
     "end_time": "2020-05-02T14:11:02.945209Z",
     "start_time": "2020-05-02T14:11:02.940559Z"
    }
   },
   "outputs": [
    {
     "name": "stdout",
     "output_type": "stream",
     "text": [
      "Model: \"sequential\"\n",
      "_________________________________________________________________\n",
      "Layer (type)                 Output Shape              Param #   \n",
      "=================================================================\n",
      "dense (Dense)                (None, 729)               59778     \n",
      "_________________________________________________________________\n",
      "dense_1 (Dense)              (None, 729)               532170    \n",
      "_________________________________________________________________\n",
      "dense_2 (Dense)              (None, 729)               532170    \n",
      "_________________________________________________________________\n",
      "dense_3 (Dense)              (None, 81)                59130     \n",
      "=================================================================\n",
      "Total params: 1,183,248\n",
      "Trainable params: 1,183,248\n",
      "Non-trainable params: 0\n",
      "_________________________________________________________________\n"
     ]
    }
   ],
   "source": [
    "model.summary()"
   ]
  },
  {
   "cell_type": "code",
   "execution_count": 8,
   "metadata": {
    "ExecuteTime": {
     "end_time": "2020-05-02T14:11:04.822783Z",
     "start_time": "2020-05-02T14:11:04.453582Z"
    }
   },
   "outputs": [
    {
     "data": {
      "image/png": "[encoded data removed]",
      "text/plain": [
       "<IPython.core.display.Image object>"
      ]
     },
     "execution_count": 8,
     "metadata": {},
     "output_type": "execute_result"
    }
   ],
   "source": [
    "plot_model(model, 'model1.png', show_shapes=True)"
   ]
  },
  {
   "cell_type": "markdown",
   "metadata": {},
   "source": [
    "# Compiling model"
   ]
  },
  {
   "cell_type": "code",
   "execution_count": 9,
   "metadata": {
    "ExecuteTime": {
     "end_time": "2020-05-02T14:11:11.033857Z",
     "start_time": "2020-05-02T14:11:10.981992Z"
    }
   },
   "outputs": [],
   "source": [
    "model.compile(optimizer = 'adam', loss = 'mean_absolute_error', metrics = ['accuracy'])"
   ]
  },
  {
   "cell_type": "markdown",
   "metadata": {},
   "source": [
    "# Model fitting"
   ]
  },
  {
   "cell_type": "code",
   "execution_count": 10,
   "metadata": {
    "ExecuteTime": {
     "end_time": "2020-05-02T14:11:13.057050Z",
     "start_time": "2020-05-02T14:11:13.054605Z"
    }
   },
   "outputs": [],
   "source": [
    "es = EarlyStopping(monitor = 'val_loss', patience = 5)"
   ]
  },
  {
   "cell_type": "code",
   "execution_count": 11,
   "metadata": {
    "ExecuteTime": {
     "end_time": "2020-05-02T14:49:10.923813Z",
     "start_time": "2020-05-02T14:11:14.127212Z"
    },
    "scrolled": true
   },
   "outputs": [],
   "source": [
    "history = model.fit(X, Y, epochs = 100, batch_size = 32, verbose = 0, validation_split = 0.2, callbacks=[es])"
   ]
  },
  {
   "cell_type": "markdown",
   "metadata": {},
   "source": [
    "# Model Evaluation"
   ]
  },
  {
   "cell_type": "code",
   "execution_count": 21,
   "metadata": {
    "ExecuteTime": {
     "end_time": "2020-05-02T15:09:27.575106Z",
     "start_time": "2020-05-02T15:09:27.414140Z"
    }
   },
   "outputs": [
    {
     "data": {
      "image/png": "[encoded data removed]",
      "text/plain": [
       "<Figure size 432x288 with 1 Axes>"
      ]
     },
     "metadata": {
      "needs_background": "light"
     },
     "output_type": "display_data"
    },
    {
     "name": "stdout",
     "output_type": "stream",
     "text": [
      "{'loss': [1.703291315068029, 1.5948282934651348, 1.5562290837724122, 1.5290350976486582, 1.4936654605056392, 1.4620833214446673, 1.4438729084200905, 1.4333468168030046, 1.4230688231096438, 1.4170840359339834, 1.4127426847822349, 1.4095224689095407, 1.4073478333032567, 1.4059092916521327, 1.4041670027469921, 1.4036583465231411, 1.4019767801543526, 1.4007635166117611, 1.3995987464273336, 1.3985858260020985, 1.3975034617746949, 1.3964005939905635, 1.3947337464764213, 1.394217740931674, 1.3936822053783682, 1.3935351338241952, 1.3929424806121642, 1.3929142076245347, 1.3923715915783452, 1.3919475301061848, 1.3910323343086195], 'accuracy': [0.10097262, 0.108277634, 0.10788763, 0.107438885, 0.106320135, 0.105161384, 0.104552634, 0.10514263, 0.10503513, 0.10477388, 0.104887635, 0.10569138, 0.105578884, 0.10479888, 0.10470013, 0.10477638, 0.10520263, 0.10497263, 0.10535013, 0.105556384, 0.105793886, 0.10529138, 0.10565513, 0.10503888, 0.10482513, 0.10488388, 0.10467263, 0.104733884, 0.10382388, 0.104667634, 0.10474763], 'val_loss': [1.6343089204406738, 1.5708797182655334, 1.5401388185691833, 1.5177272673416138, 1.4728449914932251, 1.4473297674179078, 1.4400553433418275, 1.4270432264328003, 1.4232298513412476, 1.4094034835243225, 1.4185953547668457, 1.4105115815353393, 1.408159643535614, 1.4037506321334838, 1.4185891962623596, 1.403916059036255, 1.40088931306839, 1.3942985078811645, 1.4031512352180482, 1.3939422355270386, 1.3956431416511537, 1.3909940458106995, 1.3870985712814332, 1.3915896047592162, 1.4010750865364074, 1.386262274093628, 1.3891810213088989, 1.4031593904495239, 1.3881986478805541, 1.3890341514778137, 1.388724894695282], 'val_accuracy': [0.13852, 0.134085, 0.08774, 0.057275, 0.13444, 0.12295, 0.143935, 0.084875, 0.063365, 0.10217, 0.10973, 0.09805, 0.102285, 0.080215, 0.089955, 0.112125, 0.122725, 0.097695, 0.09505, 0.081745, 0.121975, 0.111995, 0.13772, 0.1023, 0.130275, 0.12306, 0.08918, 0.116265, 0.10826, 0.08351, 0.140935]}\n"
     ]
    }
   ],
   "source": [
    "plt.title('Learning Curve')\n",
    "plt.xlabel('Epochs')\n",
    "plt.ylabel('Mean Absolute Error')\n",
    "plt.plot(history.history['loss'], label = 'Training')\n",
    "plt.plot(history.history['val_loss'], label = 'Validation')\n",
    "plt.legend()\n",
    "plt.show()\n",
    "print(history.history)"
   ]
  },
  {
   "cell_type": "code",
   "execution_count": 23,
   "metadata": {
    "ExecuteTime": {
     "end_time": "2020-05-02T17:00:17.222716Z",
     "start_time": "2020-05-02T17:00:05.949654Z"
    }
   },
   "outputs": [
    {
     "name": "stdout",
     "output_type": "stream",
     "text": [
      "0.14104\n"
     ]
    }
   ],
   "source": [
    "loss, acc = model.evaluate(X_test, y_test, batch_size=32, verbose=0)\n",
    "print(acc)"
   ]
  },
  {
   "cell_type": "markdown",
   "metadata": {},
   "source": [
    "# Model testing"
   ]
  },
  {
   "cell_type": "code",
   "execution_count": 27,
   "metadata": {
    "ExecuteTime": {
     "end_time": "2020-05-02T17:02:17.202861Z",
     "start_time": "2020-05-02T17:02:17.149234Z"
    }
   },
   "outputs": [
    {
     "name": "stdout",
     "output_type": "stream",
     "text": [
      "(81,)\n",
      "[3. 4. 6. 1. 7. 9. 2. 5. 8. 1. 8. 7. 5. 2. 3. 9. 6. 4. 5. 2. 9. 6. 4. 8.\n",
      " 3. 7. 1. 9. 6. 5. 8. 3. 2. 4. 1. 7. 4. 7. 2. 9. 1. 6. 8. 3. 5. 8. 1. 3.\n",
      " 7. 5. 4. 6. 2. 9. 7. 9. 8. 2. 6. 1. 5. 4. 3. 6. 3. 1. 4. 8. 5. 7. 9. 2.\n",
      " 2. 5. 4. 3. 9. 7. 1. 8. 6.]\n",
      "[[4.2130013 4.768916  6.7358804 4.709598  4.9927225 5.058983  3.7596924\n",
      "  4.44586   5.6553974 2.2410316 3.509304  6.705989  5.1627426 3.8429193\n",
      "  3.9949982 9.050652  5.9338346 3.154108  6.357727  2.6576405 7.2638917\n",
      "  4.7610745 3.9032283 7.7932744 1.8628064 5.8841367 3.4181876 6.46271\n",
      "  5.884486  4.4103017 6.8572917 4.7866955 3.608449  2.5450757 0.8801786\n",
      "  8.248243  4.8244867 3.8548036 2.8854568 8.608098  1.2773533 5.8126817\n",
      "  7.8444285 4.5007763 3.6718454 7.7715917 4.058273  2.1419635 4.872493\n",
      "  4.8567924 3.6910481 6.3829165 5.5418777 5.648973  4.25062   8.852468\n",
      "  6.7132764 2.1439729 5.40773   3.6286652 4.954679  4.9023046 3.3738325\n",
      "  5.946262  3.1554534 3.035328  3.654278  7.735261  2.931263  6.7061553\n",
      "  6.4703455 4.776038  2.6353295 5.3403687 4.131455  2.512788  8.339912\n",
      "  7.5045795 2.6132617 5.207128  6.1180754]]\n"
     ]
    }
   ],
   "source": [
    "print(X[0].shape)\n",
    "y_pred = model.predict([[X[0]]])\n",
    "print(Y[0])\n",
    "print(y_pred)"
   ]
  },
  {
   "cell_type": "markdown",
   "metadata": {},
   "source": [
    "# Saving the model"
   ]
  },
  {
   "cell_type": "code",
   "execution_count": 12,
   "metadata": {
    "ExecuteTime": {
     "end_time": "2020-05-02T14:58:11.415789Z",
     "start_time": "2020-05-02T14:58:11.329660Z"
    }
   },
   "outputs": [],
   "source": [
    "model.save('multi_task_classification.h5')"
   ]
  },
  {
   "cell_type": "code",
   "execution_count": null,
   "metadata": {},
   "outputs": [],
   "source": []
  }
 ],
 "metadata": {
  "kernelspec": {
   "display_name": "Python 3",
   "language": "python",
   "name": "python3"
  },
  "language_info": {
   "codemirror_mode": {
    "name": "ipython",
    "version": 3
   },
   "file_extension": ".py",
   "mimetype": "text/x-python",
   "name": "python",
   "nbconvert_exporter": "python",
   "pygments_lexer": "ipython3",
   "version": "3.7.6"
  },
  "toc": {
   "base_numbering": 1,
   "nav_menu": {},
   "number_sections": true,
   "sideBar": true,
   "skip_h1_title": false,
   "title_cell": "Table of Contents",
   "title_sidebar": "Contents",
   "toc_cell": true,
   "toc_position": {},
   "toc_section_display": true,
   "toc_window_display": true
  },
  "varInspector": {
   "cols": {
    "lenName": 16,
    "lenType": 16,
    "lenVar": 40
   },
   "kernels_config": {
    "python": {
     "delete_cmd_postfix": "",
     "delete_cmd_prefix": "del ",
     "library": "var_list.py",
     "varRefreshCmd": "print(var_dic_list())"
    },
    "r": {
     "delete_cmd_postfix": ") ",
     "delete_cmd_prefix": "rm(",
     "library": "var_list.r",
     "varRefreshCmd": "cat(var_dic_list()) "
    }
   },
   "types_to_exclude": [
    "module",
    "function",
    "builtin_function_or_method",
    "instance",
    "_Feature"
   ],
   "window_display": false
  }
 },
 "nbformat": 4,
 "nbformat_minor": 4
}
